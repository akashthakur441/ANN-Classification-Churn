{
 "cells": [
  {
   "cell_type": "code",
   "execution_count": 1,
   "id": "8dc83ca1",
   "metadata": {},
   "outputs": [
    {
     "ename": "AttributeError",
     "evalue": "'Import' object has no attribute 'value'",
     "output_type": "error",
     "traceback": [
      "\u001b[31m---------------------------------------------------------------------------\u001b[39m",
      "\u001b[31mSyntaxError\u001b[39m                               Traceback (most recent call last)",
      "\u001b[36mFile \u001b[39m\u001b[32mc:\\Users\\acer\\Akash\\my\\VS Code\\GEN ai projects\\.venv\\Lib\\site-packages\\IPython\\core\\completer.py:1305\u001b[39m, in \u001b[36mCompleter._evaluate_expr\u001b[39m\u001b[34m(self, expr)\u001b[39m\n\u001b[32m   1304\u001b[39m \u001b[38;5;28;01mtry\u001b[39;00m:\n\u001b[32m-> \u001b[39m\u001b[32m1305\u001b[39m     obj = \u001b[43mguarded_eval\u001b[49m\u001b[43m(\u001b[49m\n\u001b[32m   1306\u001b[39m \u001b[43m        \u001b[49m\u001b[43mexpr\u001b[49m\u001b[43m,\u001b[49m\n\u001b[32m   1307\u001b[39m \u001b[43m        \u001b[49m\u001b[43mEvaluationContext\u001b[49m\u001b[43m(\u001b[49m\n\u001b[32m   1308\u001b[39m \u001b[43m            \u001b[49m\u001b[38;5;28;43mglobals\u001b[39;49m\u001b[43m=\u001b[49m\u001b[38;5;28;43mself\u001b[39;49m\u001b[43m.\u001b[49m\u001b[43mglobal_namespace\u001b[49m\u001b[43m,\u001b[49m\n\u001b[32m   1309\u001b[39m \u001b[43m            \u001b[49m\u001b[38;5;28;43mlocals\u001b[39;49m\u001b[43m=\u001b[49m\u001b[38;5;28;43mself\u001b[39;49m\u001b[43m.\u001b[49m\u001b[43mnamespace\u001b[49m\u001b[43m,\u001b[49m\n\u001b[32m   1310\u001b[39m \u001b[43m            \u001b[49m\u001b[43mevaluation\u001b[49m\u001b[43m=\u001b[49m\u001b[38;5;28;43mself\u001b[39;49m\u001b[43m.\u001b[49m\u001b[43mevaluation\u001b[49m\u001b[43m,\u001b[49m\n\u001b[32m   1311\u001b[39m \u001b[43m            \u001b[49m\u001b[43mauto_import\u001b[49m\u001b[43m=\u001b[49m\u001b[38;5;28;43mself\u001b[39;49m\u001b[43m.\u001b[49m\u001b[43m_auto_import\u001b[49m\u001b[43m,\u001b[49m\n\u001b[32m   1312\u001b[39m \u001b[43m            \u001b[49m\u001b[43mpolicy_overrides\u001b[49m\u001b[43m=\u001b[49m\u001b[38;5;28;43mself\u001b[39;49m\u001b[43m.\u001b[49m\u001b[43mpolicy_overrides\u001b[49m\u001b[43m,\u001b[49m\n\u001b[32m   1313\u001b[39m \u001b[43m        \u001b[49m\u001b[43m)\u001b[49m\u001b[43m,\u001b[49m\n\u001b[32m   1314\u001b[39m \u001b[43m    \u001b[49m\u001b[43m)\u001b[49m\n\u001b[32m   1315\u001b[39m     done = \u001b[38;5;28;01mTrue\u001b[39;00m\n",
      "\u001b[36mFile \u001b[39m\u001b[32mc:\\Users\\acer\\Akash\\my\\VS Code\\GEN ai projects\\.venv\\Lib\\site-packages\\IPython\\core\\guarded_eval.py:386\u001b[39m, in \u001b[36mguarded_eval\u001b[39m\u001b[34m(code, context)\u001b[39m\n\u001b[32m    384\u001b[39m     \u001b[38;5;28;01mreturn\u001b[39;00m \u001b[38;5;28meval\u001b[39m(code, context.globals, context.locals)\n\u001b[32m--> \u001b[39m\u001b[32m386\u001b[39m expression = \u001b[43mast\u001b[49m\u001b[43m.\u001b[49m\u001b[43mparse\u001b[49m\u001b[43m(\u001b[49m\u001b[43mcode\u001b[49m\u001b[43m,\u001b[49m\u001b[43m \u001b[49m\u001b[43mmode\u001b[49m\u001b[43m=\u001b[49m\u001b[33;43m\"\u001b[39;49m\u001b[33;43meval\u001b[39;49m\u001b[33;43m\"\u001b[39;49m\u001b[43m)\u001b[49m\n\u001b[32m    388\u001b[39m \u001b[38;5;28;01mreturn\u001b[39;00m eval_node(expression, context)\n",
      "\u001b[36mFile \u001b[39m\u001b[32mC:\\Program Files\\Python313\\Lib\\ast.py:54\u001b[39m, in \u001b[36mparse\u001b[39m\u001b[34m(source, filename, mode, type_comments, feature_version, optimize)\u001b[39m\n\u001b[32m     53\u001b[39m \u001b[38;5;66;03m# Else it should be an int giving the minor version for 3.x.\u001b[39;00m\n\u001b[32m---> \u001b[39m\u001b[32m54\u001b[39m \u001b[38;5;28;01mreturn\u001b[39;00m \u001b[38;5;28;43mcompile\u001b[39;49m\u001b[43m(\u001b[49m\u001b[43msource\u001b[49m\u001b[43m,\u001b[49m\u001b[43m \u001b[49m\u001b[43mfilename\u001b[49m\u001b[43m,\u001b[49m\u001b[43m \u001b[49m\u001b[43mmode\u001b[49m\u001b[43m,\u001b[49m\u001b[43m \u001b[49m\u001b[43mflags\u001b[49m\u001b[43m,\u001b[49m\n\u001b[32m     55\u001b[39m \u001b[43m               \u001b[49m\u001b[43m_feature_version\u001b[49m\u001b[43m=\u001b[49m\u001b[43mfeature_version\u001b[49m\u001b[43m,\u001b[49m\u001b[43m \u001b[49m\u001b[43moptimize\u001b[49m\u001b[43m=\u001b[49m\u001b[43moptimize\u001b[49m\u001b[43m)\u001b[49m\n",
      "\u001b[31mSyntaxError\u001b[39m: invalid syntax (<unknown>, line 1)",
      "\nDuring handling of the above exception, another exception occurred:\n",
      "\u001b[31mAttributeError\u001b[39m                            Traceback (most recent call last)",
      "\u001b[36mFile \u001b[39m\u001b[32mc:\\Users\\acer\\Akash\\my\\VS Code\\GEN ai projects\\.venv\\Lib\\site-packages\\IPython\\core\\completer.py:3496\u001b[39m, in \u001b[36mIPCompleter._complete\u001b[39m\u001b[34m(self, cursor_line, cursor_pos, line_buffer, text, full_text)\u001b[39m\n\u001b[32m   3492\u001b[39m     result = _convert_matcher_v1_result_to_v2_no_no(\n\u001b[32m   3493\u001b[39m         matcher(text), \u001b[38;5;28mtype\u001b[39m=_UNKNOWN_TYPE\n\u001b[32m   3494\u001b[39m     )\n\u001b[32m   3495\u001b[39m \u001b[38;5;28;01melif\u001b[39;00m _is_matcher_v2(matcher):\n\u001b[32m-> \u001b[39m\u001b[32m3496\u001b[39m     result = \u001b[43mmatcher\u001b[49m\u001b[43m(\u001b[49m\u001b[43mcontext\u001b[49m\u001b[43m)\u001b[49m\n\u001b[32m   3497\u001b[39m \u001b[38;5;28;01melse\u001b[39;00m:\n\u001b[32m   3498\u001b[39m     api_version = _get_matcher_api_version(matcher)\n",
      "\u001b[36mFile \u001b[39m\u001b[32mc:\\Users\\acer\\Akash\\my\\VS Code\\GEN ai projects\\.venv\\Lib\\site-packages\\IPython\\core\\completer.py:2605\u001b[39m, in \u001b[36mIPCompleter.python_matcher\u001b[39m\u001b[34m(self, context)\u001b[39m\n\u001b[32m   2603\u001b[39m \u001b[38;5;28;01mif\u001b[39;00m completion_type == \u001b[38;5;28mself\u001b[39m._CompletionContextType.ATTRIBUTE:\n\u001b[32m   2604\u001b[39m     \u001b[38;5;28;01mtry\u001b[39;00m:\n\u001b[32m-> \u001b[39m\u001b[32m2605\u001b[39m         matches, fragment = \u001b[38;5;28;43mself\u001b[39;49m\u001b[43m.\u001b[49m\u001b[43m_attr_matches\u001b[49m\u001b[43m(\u001b[49m\u001b[43mtext\u001b[49m\u001b[43m,\u001b[49m\u001b[43m \u001b[49m\u001b[43minclude_prefix\u001b[49m\u001b[43m=\u001b[49m\u001b[38;5;28;43;01mFalse\u001b[39;49;00m\u001b[43m)\u001b[49m\n\u001b[32m   2606\u001b[39m         \u001b[38;5;28;01mif\u001b[39;00m text.endswith(\u001b[33m\"\u001b[39m\u001b[33m.\u001b[39m\u001b[33m\"\u001b[39m) \u001b[38;5;129;01mand\u001b[39;00m \u001b[38;5;28mself\u001b[39m.omit__names:\n\u001b[32m   2607\u001b[39m             \u001b[38;5;28;01mif\u001b[39;00m \u001b[38;5;28mself\u001b[39m.omit__names == \u001b[32m1\u001b[39m:\n\u001b[32m   2608\u001b[39m                 \u001b[38;5;66;03m# true if txt is _not_ a __ name, false otherwise:\u001b[39;00m\n",
      "\u001b[36mFile \u001b[39m\u001b[32mc:\\Users\\acer\\Akash\\my\\VS Code\\GEN ai projects\\.venv\\Lib\\site-packages\\IPython\\core\\completer.py:1220\u001b[39m, in \u001b[36mCompleter._attr_matches\u001b[39m\u001b[34m(self, text, include_prefix)\u001b[39m\n\u001b[32m   1217\u001b[39m \u001b[38;5;28;01mexcept\u001b[39;00m tokenize.TokenError:\n\u001b[32m   1218\u001b[39m     \u001b[38;5;28;01mpass\u001b[39;00m\n\u001b[32m-> \u001b[39m\u001b[32m1220\u001b[39m obj = \u001b[38;5;28;43mself\u001b[39;49m\u001b[43m.\u001b[49m\u001b[43m_evaluate_expr\u001b[49m\u001b[43m(\u001b[49m\u001b[43mexpr\u001b[49m\u001b[43m)\u001b[49m\n\u001b[32m   1221\u001b[39m \u001b[38;5;28;01mif\u001b[39;00m obj \u001b[38;5;129;01mis\u001b[39;00m not_found:\n\u001b[32m   1222\u001b[39m     \u001b[38;5;28;01mreturn\u001b[39;00m [], \u001b[33m\"\u001b[39m\u001b[33m\"\u001b[39m\n",
      "\u001b[36mFile \u001b[39m\u001b[32mc:\\Users\\acer\\Akash\\my\\VS Code\\GEN ai projects\\.venv\\Lib\\site-packages\\IPython\\core\\completer.py:1323\u001b[39m, in \u001b[36mCompleter._evaluate_expr\u001b[39m\u001b[34m(self, expr)\u001b[39m\n\u001b[32m   1318\u001b[39m             \u001b[38;5;28mprint\u001b[39m(\u001b[33m\"\u001b[39m\u001b[33mEvaluation exception\u001b[39m\u001b[33m\"\u001b[39m, e)\n\u001b[32m   1319\u001b[39m         \u001b[38;5;66;03m# trim the expression to remove any invalid prefix\u001b[39;00m\n\u001b[32m   1320\u001b[39m         \u001b[38;5;66;03m# e.g. user starts `(d[`, so we get `expr = '(d'`,\u001b[39;00m\n\u001b[32m   1321\u001b[39m         \u001b[38;5;66;03m# where parenthesis is not closed.\u001b[39;00m\n\u001b[32m   1322\u001b[39m         \u001b[38;5;66;03m# TODO: make this faster by reusing parts of the computation?\u001b[39;00m\n\u001b[32m-> \u001b[39m\u001b[32m1323\u001b[39m         expr = \u001b[38;5;28;43mself\u001b[39;49m\u001b[43m.\u001b[49m\u001b[43m_trim_expr\u001b[49m\u001b[43m(\u001b[49m\u001b[43mexpr\u001b[49m\u001b[43m)\u001b[49m\n\u001b[32m   1324\u001b[39m \u001b[38;5;28;01mreturn\u001b[39;00m obj\n",
      "\u001b[36mFile \u001b[39m\u001b[32mc:\\Users\\acer\\Akash\\my\\VS Code\\GEN ai projects\\.venv\\Lib\\site-packages\\IPython\\core\\completer.py:1292\u001b[39m, in \u001b[36mCompleter._trim_expr\u001b[39m\u001b[34m(self, code)\u001b[39m\n\u001b[32m   1290\u001b[39m \u001b[38;5;28;01mif\u001b[39;00m \u001b[38;5;28mlen\u001b[39m(res.body) != \u001b[32m1\u001b[39m:\n\u001b[32m   1291\u001b[39m     \u001b[38;5;28;01mcontinue\u001b[39;00m\n\u001b[32m-> \u001b[39m\u001b[32m1292\u001b[39m expr = \u001b[43mres\u001b[49m\u001b[43m.\u001b[49m\u001b[43mbody\u001b[49m\u001b[43m[\u001b[49m\u001b[32;43m0\u001b[39;49m\u001b[43m]\u001b[49m\u001b[43m.\u001b[49m\u001b[43mvalue\u001b[49m\n\u001b[32m   1293\u001b[39m \u001b[38;5;28;01mif\u001b[39;00m \u001b[38;5;28misinstance\u001b[39m(expr, ast.Tuple) \u001b[38;5;129;01mand\u001b[39;00m \u001b[38;5;129;01mnot\u001b[39;00m code[-\u001b[32m1\u001b[39m] == \u001b[33m\"\u001b[39m\u001b[33m)\u001b[39m\u001b[33m\"\u001b[39m:\n\u001b[32m   1294\u001b[39m     \u001b[38;5;66;03m# we skip implicit tuple, like when trimming `fun(a,b`<completion>\u001b[39;00m\n\u001b[32m   1295\u001b[39m     \u001b[38;5;66;03m# as `a,b` would be a tuple, and we actually expect to get only `b`\u001b[39;00m\n\u001b[32m   1296\u001b[39m     \u001b[38;5;28;01mcontinue\u001b[39;00m\n",
      "\u001b[31mAttributeError\u001b[39m: 'Import' object has no attribute 'value'"
     ]
    }
   ],
   "source": [
    "import pandas as pd\n",
    "from sklearn.model_selection import train_test_split\n",
    "from sklearn.preprocessing import StandardScaler,LabelEncoder\n",
    "import pickle"
   ]
  },
  {
   "cell_type": "code",
   "execution_count": null,
   "id": "003a916a",
   "metadata": {},
   "outputs": [],
   "source": [
    "#load the data\n",
    "data=pd.read_csv(\"Churn_Modelling.csv\")"
   ]
  },
  {
   "cell_type": "code",
   "execution_count": null,
   "id": "a706753a",
   "metadata": {},
   "outputs": [],
   "source": []
  },
  {
   "cell_type": "code",
   "execution_count": null,
   "id": "214f62d4",
   "metadata": {},
   "outputs": [],
   "source": []
  },
  {
   "cell_type": "code",
   "execution_count": null,
   "id": "922da19e",
   "metadata": {},
   "outputs": [],
   "source": []
  },
  {
   "cell_type": "code",
   "execution_count": null,
   "id": "a5c0107e",
   "metadata": {},
   "outputs": [],
   "source": []
  },
  {
   "cell_type": "code",
   "execution_count": null,
   "id": "37518699",
   "metadata": {},
   "outputs": [],
   "source": []
  },
  {
   "cell_type": "code",
   "execution_count": null,
   "id": "f7fa31ae",
   "metadata": {},
   "outputs": [],
   "source": []
  },
  {
   "cell_type": "code",
   "execution_count": null,
   "id": "1cfb66e4",
   "metadata": {},
   "outputs": [],
   "source": []
  },
  {
   "cell_type": "code",
   "execution_count": null,
   "id": "b085a217",
   "metadata": {},
   "outputs": [],
   "source": []
  },
  {
   "cell_type": "code",
   "execution_count": null,
   "id": "c27b5b57",
   "metadata": {},
   "outputs": [],
   "source": []
  },
  {
   "cell_type": "code",
   "execution_count": null,
   "id": "91bfa240",
   "metadata": {},
   "outputs": [],
   "source": []
  },
  {
   "cell_type": "code",
   "execution_count": null,
   "id": "b8d4fdaa",
   "metadata": {},
   "outputs": [],
   "source": []
  },
  {
   "cell_type": "code",
   "execution_count": null,
   "id": "c5072666",
   "metadata": {},
   "outputs": [],
   "source": []
  },
  {
   "cell_type": "code",
   "execution_count": null,
   "id": "d7de40a1",
   "metadata": {},
   "outputs": [],
   "source": []
  },
  {
   "cell_type": "code",
   "execution_count": null,
   "id": "1b2fcde0",
   "metadata": {},
   "outputs": [],
   "source": []
  }
 ],
 "metadata": {
  "kernelspec": {
   "display_name": ".venv",
   "language": "python",
   "name": "python3"
  },
  "language_info": {
   "codemirror_mode": {
    "name": "ipython",
    "version": 3
   },
   "file_extension": ".py",
   "mimetype": "text/x-python",
   "name": "python",
   "nbconvert_exporter": "python",
   "pygments_lexer": "ipython3",
   "version": "3.13.3"
  }
 },
 "nbformat": 4,
 "nbformat_minor": 5
}
